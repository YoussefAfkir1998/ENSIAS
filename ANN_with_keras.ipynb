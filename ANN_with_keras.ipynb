{
 "cells": [
  {
   "cell_type": "markdown",
   "metadata": {},
   "source": [
    "# Artificial Neural Networks with Keras"
   ]
  },
  {
   "cell_type": "markdown",
   "metadata": {},
   "source": [
    "# Setup"
   ]
  },
  {
   "cell_type": "code",
   "execution_count": 2,
   "metadata": {},
   "outputs": [
    {
     "name": "stderr",
     "output_type": "stream",
     "text": [
      "C:\\Users\\youss\\anaconda3\\lib\\site-packages\\tensorflow\\python\\framework\\dtypes.py:516: FutureWarning: Passing (type, 1) or '1type' as a synonym of type is deprecated; in a future version of numpy, it will be understood as (type, (1,)) / '(1,)type'.\n",
      "  _np_qint8 = np.dtype([(\"qint8\", np.int8, 1)])\n",
      "C:\\Users\\youss\\anaconda3\\lib\\site-packages\\tensorflow\\python\\framework\\dtypes.py:517: FutureWarning: Passing (type, 1) or '1type' as a synonym of type is deprecated; in a future version of numpy, it will be understood as (type, (1,)) / '(1,)type'.\n",
      "  _np_quint8 = np.dtype([(\"quint8\", np.uint8, 1)])\n",
      "C:\\Users\\youss\\anaconda3\\lib\\site-packages\\tensorflow\\python\\framework\\dtypes.py:518: FutureWarning: Passing (type, 1) or '1type' as a synonym of type is deprecated; in a future version of numpy, it will be understood as (type, (1,)) / '(1,)type'.\n",
      "  _np_qint16 = np.dtype([(\"qint16\", np.int16, 1)])\n",
      "C:\\Users\\youss\\anaconda3\\lib\\site-packages\\tensorflow\\python\\framework\\dtypes.py:519: FutureWarning: Passing (type, 1) or '1type' as a synonym of type is deprecated; in a future version of numpy, it will be understood as (type, (1,)) / '(1,)type'.\n",
      "  _np_quint16 = np.dtype([(\"quint16\", np.uint16, 1)])\n",
      "C:\\Users\\youss\\anaconda3\\lib\\site-packages\\tensorflow\\python\\framework\\dtypes.py:520: FutureWarning: Passing (type, 1) or '1type' as a synonym of type is deprecated; in a future version of numpy, it will be understood as (type, (1,)) / '(1,)type'.\n",
      "  _np_qint32 = np.dtype([(\"qint32\", np.int32, 1)])\n",
      "C:\\Users\\youss\\anaconda3\\lib\\site-packages\\tensorflow\\python\\framework\\dtypes.py:525: FutureWarning: Passing (type, 1) or '1type' as a synonym of type is deprecated; in a future version of numpy, it will be understood as (type, (1,)) / '(1,)type'.\n",
      "  np_resource = np.dtype([(\"resource\", np.ubyte, 1)])\n",
      "C:\\Users\\youss\\anaconda3\\lib\\site-packages\\tensorboard\\compat\\tensorflow_stub\\dtypes.py:541: FutureWarning: Passing (type, 1) or '1type' as a synonym of type is deprecated; in a future version of numpy, it will be understood as (type, (1,)) / '(1,)type'.\n",
      "  _np_qint8 = np.dtype([(\"qint8\", np.int8, 1)])\n",
      "C:\\Users\\youss\\anaconda3\\lib\\site-packages\\tensorboard\\compat\\tensorflow_stub\\dtypes.py:542: FutureWarning: Passing (type, 1) or '1type' as a synonym of type is deprecated; in a future version of numpy, it will be understood as (type, (1,)) / '(1,)type'.\n",
      "  _np_quint8 = np.dtype([(\"quint8\", np.uint8, 1)])\n",
      "C:\\Users\\youss\\anaconda3\\lib\\site-packages\\tensorboard\\compat\\tensorflow_stub\\dtypes.py:543: FutureWarning: Passing (type, 1) or '1type' as a synonym of type is deprecated; in a future version of numpy, it will be understood as (type, (1,)) / '(1,)type'.\n",
      "  _np_qint16 = np.dtype([(\"qint16\", np.int16, 1)])\n",
      "C:\\Users\\youss\\anaconda3\\lib\\site-packages\\tensorboard\\compat\\tensorflow_stub\\dtypes.py:544: FutureWarning: Passing (type, 1) or '1type' as a synonym of type is deprecated; in a future version of numpy, it will be understood as (type, (1,)) / '(1,)type'.\n",
      "  _np_quint16 = np.dtype([(\"quint16\", np.uint16, 1)])\n",
      "C:\\Users\\youss\\anaconda3\\lib\\site-packages\\tensorboard\\compat\\tensorflow_stub\\dtypes.py:545: FutureWarning: Passing (type, 1) or '1type' as a synonym of type is deprecated; in a future version of numpy, it will be understood as (type, (1,)) / '(1,)type'.\n",
      "  _np_qint32 = np.dtype([(\"qint32\", np.int32, 1)])\n",
      "C:\\Users\\youss\\anaconda3\\lib\\site-packages\\tensorboard\\compat\\tensorflow_stub\\dtypes.py:550: FutureWarning: Passing (type, 1) or '1type' as a synonym of type is deprecated; in a future version of numpy, it will be understood as (type, (1,)) / '(1,)type'.\n",
      "  np_resource = np.dtype([(\"resource\", np.ubyte, 1)])\n"
     ]
    }
   ],
   "source": [
    "import tensorflow as tf"
   ]
  },
  {
   "cell_type": "code",
   "execution_count": 3,
   "metadata": {},
   "outputs": [],
   "source": [
    "import numpy as np\n",
    "import os"
   ]
  },
  {
   "cell_type": "code",
   "execution_count": 4,
   "metadata": {},
   "outputs": [],
   "source": [
    "np.random.seed(42)"
   ]
  },
  {
   "cell_type": "code",
   "execution_count": 5,
   "metadata": {},
   "outputs": [],
   "source": [
    "%matplotlib inline\n",
    "import matplotlib as mpl\n",
    "import matplotlib.pyplot as plt\n",
    "mpl.rc('axes', labelsize=14)\n",
    "mpl.rc('xtick', labelsize=12)\n",
    "mpl.rc('ytick', labelsize=12)"
   ]
  },
  {
   "cell_type": "code",
   "execution_count": 6,
   "metadata": {},
   "outputs": [],
   "source": [
    "import warnings\n",
    "warnings.filterwarnings(action=\"ignore\", message=\"^internal gelsd\")"
   ]
  },
  {
   "cell_type": "markdown",
   "metadata": {},
   "source": [
    "# Building an Image Classifier"
   ]
  },
  {
   "cell_type": "code",
   "execution_count": 7,
   "metadata": {},
   "outputs": [],
   "source": [
    "import tensorflow as tf\n",
    "from tensorflow import keras"
   ]
  },
  {
   "cell_type": "code",
   "execution_count": 8,
   "metadata": {},
   "outputs": [
    {
     "data": {
      "text/plain": [
       "'1.14.0'"
      ]
     },
     "execution_count": 8,
     "metadata": {},
     "output_type": "execute_result"
    }
   ],
   "source": [
    "tf.__version__"
   ]
  },
  {
   "cell_type": "code",
   "execution_count": 9,
   "metadata": {},
   "outputs": [],
   "source": [
    "fashion_mnist = keras.datasets.fashion_mnist\n",
    "(X_train_full, y_train_full), (X_test, y_test) = fashion_mnist.load_data()"
   ]
  },
  {
   "cell_type": "code",
   "execution_count": 10,
   "metadata": {},
   "outputs": [
    {
     "data": {
      "text/plain": [
       "(60000, 28, 28)"
      ]
     },
     "execution_count": 10,
     "metadata": {},
     "output_type": "execute_result"
    }
   ],
   "source": [
    "X_train_full.shape"
   ]
  },
  {
   "cell_type": "code",
   "execution_count": 11,
   "metadata": {},
   "outputs": [
    {
     "data": {
      "text/plain": [
       "dtype('uint8')"
      ]
     },
     "execution_count": 11,
     "metadata": {},
     "output_type": "execute_result"
    }
   ],
   "source": [
    "X_train_full.dtype"
   ]
  },
  {
   "cell_type": "code",
   "execution_count": 12,
   "metadata": {},
   "outputs": [],
   "source": [
    "X_valid, X_train = X_train_full[:5000] / 255., X_train_full[5000:] / 255.\n",
    "y_valid, y_train = y_train_full[:5000], y_train_full[5000:]\n",
    "X_test = X_test / 255."
   ]
  },
  {
   "cell_type": "code",
   "execution_count": 13,
   "metadata": {},
   "outputs": [
    {
     "data": {
      "image/png": "[encoded data removed]",
      "text/plain": [
       "<Figure size 432x288 with 1 Axes>"
      ]
     },
     "metadata": {
      "needs_background": "light"
     },
     "output_type": "display_data"
    }
   ],
   "source": [
    "plt.imshow(X_train[0], cmap=\"binary\")\n",
    "plt.axis('off')\n",
    "plt.show()"
   ]
  },
  {
   "cell_type": "code",
   "execution_count": 14,
   "metadata": {},
   "outputs": [
    {
     "data": {
      "text/plain": [
       "array([4, 0, 7, ..., 3, 0, 5], dtype=uint8)"
      ]
     },
     "execution_count": 14,
     "metadata": {},
     "output_type": "execute_result"
    }
   ],
   "source": [
    "y_train"
   ]
  },
  {
   "cell_type": "code",
   "execution_count": 15,
   "metadata": {},
   "outputs": [],
   "source": [
    "class_names = [\"T-shirt/top\", \"Trouser\", \"Pullover\", \"Dress\", \"Coat\",\n",
    "               \"Sandal\", \"Shirt\", \"Sneaker\", \"Bag\", \"Ankle boot\"]"
   ]
  },
  {
   "cell_type": "code",
   "execution_count": 16,
   "metadata": {},
   "outputs": [
    {
     "data": {
      "text/plain": [
       "'Coat'"
      ]
     },
     "execution_count": 16,
     "metadata": {},
     "output_type": "execute_result"
    }
   ],
   "source": [
    "class_names[y_train[0]]"
   ]
  },
  {
   "cell_type": "code",
   "execution_count": 17,
   "metadata": {},
   "outputs": [
    {
     "data": {
      "text/plain": [
       "(5000, 28, 28)"
      ]
     },
     "execution_count": 17,
     "metadata": {},
     "output_type": "execute_result"
    }
   ],
   "source": [
    "X_valid.shape"
   ]
  },
  {
   "cell_type": "code",
   "execution_count": 18,
   "metadata": {},
   "outputs": [
    {
     "data": {
      "text/plain": [
       "(10000, 28, 28)"
      ]
     },
     "execution_count": 18,
     "metadata": {},
     "output_type": "execute_result"
    }
   ],
   "source": [
    "X_test.shape"
   ]
  },
  {
   "cell_type": "code",
   "execution_count": 19,
   "metadata": {},
   "outputs": [
    {
     "data": {
      "image/png": "[encoded data removed]",
      "text/plain": [
       "<Figure size 864x345.6 with 40 Axes>"
      ]
     },
     "metadata": {
      "needs_background": "light"
     },
     "output_type": "display_data"
    }
   ],
   "source": [
    "n_rows = 4\n",
    "n_cols = 10\n",
    "plt.figure(figsize=(n_cols * 1.2, n_rows * 1.2))\n",
    "for row in range(n_rows):\n",
    "    for col in range(n_cols):\n",
    "        index = n_cols * row + col\n",
    "        plt.subplot(n_rows, n_cols, index + 1)\n",
    "        plt.imshow(X_train[index], cmap=\"binary\", interpolation=\"nearest\")\n",
    "        plt.axis('off')\n",
    "        plt.title(class_names[y_train[index]], fontsize=12)\n",
    "plt.subplots_adjust(wspace=0.2, hspace=0.5)\n",
    "plt.show()"
   ]
  },
  {
   "cell_type": "markdown",
   "metadata": {},
   "source": [
    "## Construct a Model"
   ]
  },
  {
   "cell_type": "code",
   "execution_count": 20,
   "metadata": {},
   "outputs": [
    {
     "name": "stdout",
     "output_type": "stream",
     "text": [
      "WARNING:tensorflow:From C:\\Users\\youss\\anaconda3\\lib\\site-packages\\tensorflow\\python\\ops\\init_ops.py:1251: calling VarianceScaling.__init__ (from tensorflow.python.ops.init_ops) with dtype is deprecated and will be removed in a future version.\n",
      "Instructions for updating:\n",
      "Call initializer instance with the dtype argument instead of passing it to the constructor\n"
     ]
    }
   ],
   "source": [
    "model = keras.models.Sequential()\n",
    "model.add(keras.layers.Flatten(input_shape=[28, 28]))\n",
    "model.add(keras.layers.Dense(300, activation=\"relu\"))\n",
    "model.add(keras.layers.Dense(100, activation=\"relu\"))\n",
    "model.add(keras.layers.Dense(10, activation=\"softmax\"))"
   ]
  },
  {
   "cell_type": "code",
   "execution_count": 21,
   "metadata": {},
   "outputs": [],
   "source": [
    "keras.backend.clear_session()\n",
    "np.random.seed(42)"
   ]
  },
  {
   "cell_type": "markdown",
   "metadata": {},
   "source": [
    "### or using the folowing method"
   ]
  },
  {
   "cell_type": "code",
   "execution_count": 22,
   "metadata": {},
   "outputs": [],
   "source": [
    "model = keras.models.Sequential([\n",
    "    keras.layers.Flatten(input_shape=[28, 28]),\n",
    "    keras.layers.Dense(300, activation=\"relu\"),\n",
    "    keras.layers.Dense(100, activation=\"relu\"),\n",
    "    keras.layers.Dense(10, activation=\"softmax\")\n",
    "])"
   ]
  },
  {
   "cell_type": "code",
   "execution_count": 23,
   "metadata": {},
   "outputs": [
    {
     "data": {
      "text/plain": [
       "[<tensorflow.python.keras.layers.core.Flatten at 0x17dbfc8e048>,\n",
       " <tensorflow.python.keras.layers.core.Dense at 0x17dbfc8e288>,\n",
       " <tensorflow.python.keras.layers.core.Dense at 0x17dbfc8e688>,\n",
       " <tensorflow.python.keras.layers.core.Dense at 0x17dbfc8e9c8>]"
      ]
     },
     "execution_count": 23,
     "metadata": {},
     "output_type": "execute_result"
    }
   ],
   "source": [
    "model.layers"
   ]
  },
  {
   "cell_type": "code",
   "execution_count": 24,
   "metadata": {},
   "outputs": [
    {
     "name": "stdout",
     "output_type": "stream",
     "text": [
      "Model: \"sequential\"\n",
      "_________________________________________________________________\n",
      "Layer (type)                 Output Shape              Param #   \n",
      "=================================================================\n",
      "flatten (Flatten)            (None, 784)               0         \n",
      "_________________________________________________________________\n",
      "dense (Dense)                (None, 300)               235500    \n",
      "_________________________________________________________________\n",
      "dense_1 (Dense)              (None, 100)               30100     \n",
      "_________________________________________________________________\n",
      "dense_2 (Dense)              (None, 10)                1010      \n",
      "=================================================================\n",
      "Total params: 266,610\n",
      "Trainable params: 266,610\n",
      "Non-trainable params: 0\n",
      "_________________________________________________________________\n"
     ]
    }
   ],
   "source": [
    "model.summary()"
   ]
  },
  {
   "cell_type": "code",
   "execution_count": 25,
   "metadata": {},
   "outputs": [
    {
     "data": {
      "text/plain": [
       "'dense'"
      ]
     },
     "execution_count": 25,
     "metadata": {},
     "output_type": "execute_result"
    }
   ],
   "source": [
    "hidden1 = model.layers[1]\n",
    "hidden1.name"
   ]
  },
  {
   "cell_type": "code",
   "execution_count": 26,
   "metadata": {},
   "outputs": [
    {
     "data": {
      "text/plain": [
       "True"
      ]
     },
     "execution_count": 26,
     "metadata": {},
     "output_type": "execute_result"
    }
   ],
   "source": [
    "model.get_layer(hidden1.name) is hidden1"
   ]
  },
  {
   "cell_type": "code",
   "execution_count": 27,
   "metadata": {},
   "outputs": [],
   "source": [
    "weights, biases = hidden1.get_weights()"
   ]
  },
  {
   "cell_type": "code",
   "execution_count": 28,
   "metadata": {},
   "outputs": [
    {
     "data": {
      "text/plain": [
       "array([[-0.00142156, -0.05712541,  0.05696686, ..., -0.0530748 ,\n",
       "        -0.05698236, -0.04785424],\n",
       "       [-0.01647522,  0.03621194,  0.03786058, ..., -0.06936003,\n",
       "        -0.00380585,  0.07091977],\n",
       "       [-0.03744379,  0.05769715, -0.0185867 , ...,  0.04988699,\n",
       "        -0.00939578, -0.04363542],\n",
       "       ...,\n",
       "       [ 0.0732695 ,  0.00377951, -0.06221029, ..., -0.02971619,\n",
       "         0.03698807, -0.05954434],\n",
       "       [-0.0520997 , -0.04069188, -0.0078989 , ..., -0.05081922,\n",
       "        -0.04860814, -0.04239721],\n",
       "       [-0.05399474,  0.013739  ,  0.06714898, ...,  0.07183146,\n",
       "        -0.0142822 , -0.00517034]], dtype=float32)"
      ]
     },
     "execution_count": 28,
     "metadata": {},
     "output_type": "execute_result"
    }
   ],
   "source": [
    "weights"
   ]
  },
  {
   "cell_type": "code",
   "execution_count": 29,
   "metadata": {},
   "outputs": [
    {
     "data": {
      "text/plain": [
       "(784, 300)"
      ]
     },
     "execution_count": 29,
     "metadata": {},
     "output_type": "execute_result"
    }
   ],
   "source": [
    "weights.shape"
   ]
  },
  {
   "cell_type": "code",
   "execution_count": 30,
   "metadata": {},
   "outputs": [
    {
     "data": {
      "text/plain": [
       "array([0., 0., 0., 0., 0., 0., 0., 0., 0., 0., 0., 0., 0., 0., 0., 0., 0.,\n",
       "       0., 0., 0., 0., 0., 0., 0., 0., 0., 0., 0., 0., 0., 0., 0., 0., 0.,\n",
       "       0., 0., 0., 0., 0., 0., 0., 0., 0., 0., 0., 0., 0., 0., 0., 0., 0.,\n",
       "       0., 0., 0., 0., 0., 0., 0., 0., 0., 0., 0., 0., 0., 0., 0., 0., 0.,\n",
       "       0., 0., 0., 0., 0., 0., 0., 0., 0., 0., 0., 0., 0., 0., 0., 0., 0.,\n",
       "       0., 0., 0., 0., 0., 0., 0., 0., 0., 0., 0., 0., 0., 0., 0., 0., 0.,\n",
       "       0., 0., 0., 0., 0., 0., 0., 0., 0., 0., 0., 0., 0., 0., 0., 0., 0.,\n",
       "       0., 0., 0., 0., 0., 0., 0., 0., 0., 0., 0., 0., 0., 0., 0., 0., 0.,\n",
       "       0., 0., 0., 0., 0., 0., 0., 0., 0., 0., 0., 0., 0., 0., 0., 0., 0.,\n",
       "       0., 0., 0., 0., 0., 0., 0., 0., 0., 0., 0., 0., 0., 0., 0., 0., 0.,\n",
       "       0., 0., 0., 0., 0., 0., 0., 0., 0., 0., 0., 0., 0., 0., 0., 0., 0.,\n",
       "       0., 0., 0., 0., 0., 0., 0., 0., 0., 0., 0., 0., 0., 0., 0., 0., 0.,\n",
       "       0., 0., 0., 0., 0., 0., 0., 0., 0., 0., 0., 0., 0., 0., 0., 0., 0.,\n",
       "       0., 0., 0., 0., 0., 0., 0., 0., 0., 0., 0., 0., 0., 0., 0., 0., 0.,\n",
       "       0., 0., 0., 0., 0., 0., 0., 0., 0., 0., 0., 0., 0., 0., 0., 0., 0.,\n",
       "       0., 0., 0., 0., 0., 0., 0., 0., 0., 0., 0., 0., 0., 0., 0., 0., 0.,\n",
       "       0., 0., 0., 0., 0., 0., 0., 0., 0., 0., 0., 0., 0., 0., 0., 0., 0.,\n",
       "       0., 0., 0., 0., 0., 0., 0., 0., 0., 0., 0.], dtype=float32)"
      ]
     },
     "execution_count": 30,
     "metadata": {},
     "output_type": "execute_result"
    }
   ],
   "source": [
    "biases"
   ]
  },
  {
   "cell_type": "code",
   "execution_count": 31,
   "metadata": {},
   "outputs": [
    {
     "data": {
      "text/plain": [
       "(300,)"
      ]
     },
     "execution_count": 31,
     "metadata": {},
     "output_type": "execute_result"
    }
   ],
   "source": [
    "biases.shape"
   ]
  },
  {
   "cell_type": "code",
   "execution_count": 32,
   "metadata": {},
   "outputs": [],
   "source": [
    "model.compile(loss=\"sparse_categorical_crossentropy\",\n",
    "              optimizer=\"sgd\",\n",
    "              metrics=[\"accuracy\"])"
   ]
  },
  {
   "cell_type": "markdown",
   "metadata": {},
   "source": [
    "### Train the model"
   ]
  },
  {
   "cell_type": "code",
   "execution_count": 33,
   "metadata": {},
   "outputs": [
    {
     "name": "stdout",
     "output_type": "stream",
     "text": [
      "Train on 55000 samples, validate on 5000 samples\n",
      "Epoch 1/30\n",
      "55000/55000 [==============================] - 22s 404us/sample - loss: 0.7314 - acc: 0.7617 - val_loss: 0.5090 - val_acc: 0.8270\n",
      "Epoch 2/30\n",
      "55000/55000 [==============================] - 14s 247us/sample - loss: 0.4929 - acc: 0.8294 - val_loss: 0.4569 - val_acc: 0.8434\n",
      "Epoch 3/30\n",
      "55000/55000 [==============================] - 16s 284us/sample - loss: 0.4480 - acc: 0.8432 - val_loss: 0.4124 - val_acc: 0.8584\n",
      "Epoch 4/30\n",
      "55000/55000 [==============================] - 14s 250us/sample - loss: 0.4212 - acc: 0.8521 - val_loss: 0.4063 - val_acc: 0.8628\n",
      "Epoch 5/30\n",
      "55000/55000 [==============================] - 15s 266us/sample - loss: 0.4000 - acc: 0.8598 - val_loss: 0.3810 - val_acc: 0.8668\n",
      "Epoch 6/30\n",
      "55000/55000 [==============================] - 14s 253us/sample - loss: 0.3839 - acc: 0.8651 - val_loss: 0.3762 - val_acc: 0.8676\n",
      "Epoch 7/30\n",
      "55000/55000 [==============================] - 15s 270us/sample - loss: 0.3692 - acc: 0.8696 - val_loss: 0.3713 - val_acc: 0.8696\n",
      "Epoch 8/30\n",
      "55000/55000 [==============================] - 14s 259us/sample - loss: 0.3574 - acc: 0.8742 - val_loss: 0.3688 - val_acc: 0.8718\n",
      "Epoch 9/30\n",
      "55000/55000 [==============================] - 13s 231us/sample - loss: 0.3463 - acc: 0.8775 - val_loss: 0.3418 - val_acc: 0.8800\n",
      "Epoch 10/30\n",
      "55000/55000 [==============================] - 16s 284us/sample - loss: 0.3371 - acc: 0.8810 - val_loss: 0.3774 - val_acc: 0.8692\n",
      "Epoch 11/30\n",
      "55000/55000 [==============================] - 12s 226us/sample - loss: 0.3284 - acc: 0.8826 - val_loss: 0.3343 - val_acc: 0.8804\n",
      "Epoch 12/30\n",
      "55000/55000 [==============================] - 12s 217us/sample - loss: 0.3195 - acc: 0.8864 - val_loss: 0.3466 - val_acc: 0.8750\n",
      "Epoch 13/30\n",
      "55000/55000 [==============================] - 12s 219us/sample - loss: 0.3114 - acc: 0.8891 - val_loss: 0.3427 - val_acc: 0.8768\n",
      "Epoch 14/30\n",
      "55000/55000 [==============================] - 13s 241us/sample - loss: 0.3056 - acc: 0.8899 - val_loss: 0.3212 - val_acc: 0.8858\n",
      "Epoch 15/30\n",
      "55000/55000 [==============================] - 14s 261us/sample - loss: 0.2985 - acc: 0.8928 - val_loss: 0.3166 - val_acc: 0.8864\n",
      "Epoch 16/30\n",
      "55000/55000 [==============================] - 14s 254us/sample - loss: 0.2921 - acc: 0.8956 - val_loss: 0.3325 - val_acc: 0.8790\n",
      "Epoch 17/30\n",
      "55000/55000 [==============================] - 13s 230us/sample - loss: 0.2865 - acc: 0.8968 - val_loss: 0.3200 - val_acc: 0.8844\n",
      "Epoch 18/30\n",
      "55000/55000 [==============================] - 15s 271us/sample - loss: 0.2816 - acc: 0.8975 - val_loss: 0.3285 - val_acc: 0.8820\n",
      "Epoch 19/30\n",
      "55000/55000 [==============================] - 16s 283us/sample - loss: 0.2758 - acc: 0.8996 - val_loss: 0.3062 - val_acc: 0.8892\n",
      "Epoch 20/30\n",
      "55000/55000 [==============================] - 18s 323us/sample - loss: 0.2697 - acc: 0.9023 - val_loss: 0.3071 - val_acc: 0.8892\n",
      "Epoch 21/30\n",
      "55000/55000 [==============================] - 16s 297us/sample - loss: 0.2663 - acc: 0.9048 - val_loss: 0.3171 - val_acc: 0.8904\n",
      "Epoch 22/30\n",
      "55000/55000 [==============================] - 15s 265us/sample - loss: 0.2600 - acc: 0.9071 - val_loss: 0.3366 - val_acc: 0.8778\n",
      "Epoch 23/30\n",
      "55000/55000 [==============================] - 15s 265us/sample - loss: 0.2568 - acc: 0.9068 - val_loss: 0.3128 - val_acc: 0.8882\n",
      "Epoch 24/30\n",
      "55000/55000 [==============================] - 18s 331us/sample - loss: 0.2516 - acc: 0.9099 - val_loss: 0.3100 - val_acc: 0.8880\n",
      "Epoch 25/30\n",
      "55000/55000 [==============================] - 15s 282us/sample - loss: 0.2474 - acc: 0.9112 - val_loss: 0.2983 - val_acc: 0.8946\n",
      "Epoch 26/30\n",
      "55000/55000 [==============================] - 17s 315us/sample - loss: 0.2429 - acc: 0.9124 - val_loss: 0.3261 - val_acc: 0.8834\n",
      "Epoch 27/30\n",
      "55000/55000 [==============================] - 16s 289us/sample - loss: 0.2399 - acc: 0.9129 - val_loss: 0.3034 - val_acc: 0.8880\n",
      "Epoch 28/30\n",
      "55000/55000 [==============================] - 20s 365us/sample - loss: 0.2357 - acc: 0.9158 - val_loss: 0.2974 - val_acc: 0.8940\n",
      "Epoch 29/30\n",
      "55000/55000 [==============================] - 18s 332us/sample - loss: 0.2310 - acc: 0.9168 - val_loss: 0.2983 - val_acc: 0.8924\n",
      "Epoch 30/30\n",
      "55000/55000 [==============================] - 15s 274us/sample - loss: 0.2276 - acc: 0.9181 - val_loss: 0.3034 - val_acc: 0.8938\n"
     ]
    }
   ],
   "source": [
    "history = model.fit(X_train, y_train, batch_size=32, epochs=30,\n",
    "                    validation_data=(X_valid, y_valid))"
   ]
  },
  {
   "cell_type": "code",
   "execution_count": 34,
   "metadata": {},
   "outputs": [
    {
     "data": {
      "text/plain": [
       "{'batch_size': 32,\n",
       " 'epochs': 30,\n",
       " 'steps': None,\n",
       " 'samples': 55000,\n",
       " 'verbose': 0,\n",
       " 'do_validation': True,\n",
       " 'metrics': ['loss', 'acc', 'val_loss', 'val_acc']}"
      ]
     },
     "execution_count": 34,
     "metadata": {},
     "output_type": "execute_result"
    }
   ],
   "source": [
    "history.params"
   ]
  },
  {
   "cell_type": "code",
   "execution_count": 35,
   "metadata": {},
   "outputs": [
    {
     "name": "stdout",
     "output_type": "stream",
     "text": [
      "[0, 1, 2, 3, 4, 5, 6, 7, 8, 9, 10, 11, 12, 13, 14, 15, 16, 17, 18, 19, 20, 21, 22, 23, 24, 25, 26, 27, 28, 29]\n"
     ]
    }
   ],
   "source": [
    "print(history.epoch)"
   ]
  },
  {
   "cell_type": "code",
   "execution_count": 36,
   "metadata": {},
   "outputs": [
    {
     "data": {
      "text/plain": [
       "dict_keys(['loss', 'acc', 'val_loss', 'val_acc'])"
      ]
     },
     "execution_count": 36,
     "metadata": {},
     "output_type": "execute_result"
    }
   ],
   "source": [
    "history.history.keys()"
   ]
  },
  {
   "cell_type": "markdown",
   "metadata": {},
   "source": [
    "### Plot learning Curves"
   ]
  },
  {
   "cell_type": "code",
   "execution_count": 37,
   "metadata": {},
   "outputs": [
    {
     "data": {
      "image/png": "[encoded data removed]",
      "text/plain": [
       "<Figure size 576x360 with 1 Axes>"
      ]
     },
     "metadata": {
      "needs_background": "light"
     },
     "output_type": "display_data"
    }
   ],
   "source": [
    "import pandas as pd\n",
    "\n",
    "pd.DataFrame(history.history).plot(figsize=(8, 5))\n",
    "plt.grid(True)\n",
    "plt.gca().set_ylim(0, 1)\n",
    "plt.show()"
   ]
  },
  {
   "cell_type": "code",
   "execution_count": 38,
   "metadata": {},
   "outputs": [
    {
     "name": "stdout",
     "output_type": "stream",
     "text": [
      "10000/10000 [==============================] - 2s 212us/sample - loss: 0.3348 - acc: 0.8846\n"
     ]
    },
    {
     "data": {
      "text/plain": [
       "[0.3348216321468353, 0.8846]"
      ]
     },
     "execution_count": 38,
     "metadata": {},
     "output_type": "execute_result"
    }
   ],
   "source": [
    "model.evaluate(X_test, y_test)"
   ]
  },
  {
   "cell_type": "code",
   "execution_count": 39,
   "metadata": {},
   "outputs": [
    {
     "data": {
      "text/plain": [
       "array([[0.  , 0.  , 0.  , 0.  , 0.  , 0.01, 0.  , 0.01, 0.  , 0.98],\n",
       "       [0.  , 0.  , 0.99, 0.  , 0.01, 0.  , 0.  , 0.  , 0.  , 0.  ],\n",
       "       [0.  , 1.  , 0.  , 0.  , 0.  , 0.  , 0.  , 0.  , 0.  , 0.  ]],\n",
       "      dtype=float32)"
      ]
     },
     "execution_count": 39,
     "metadata": {},
     "output_type": "execute_result"
    }
   ],
   "source": [
    "X_new = X_test[:3]\n",
    "y_proba = model.predict(X_new)\n",
    "y_proba.round(2)"
   ]
  },
  {
   "cell_type": "code",
   "execution_count": 40,
   "metadata": {},
   "outputs": [
    {
     "data": {
      "text/plain": [
       "array([9, 2, 1], dtype=int64)"
      ]
     },
     "execution_count": 40,
     "metadata": {},
     "output_type": "execute_result"
    }
   ],
   "source": [
    "y_pred = model.predict_classes(X_new)\n",
    "y_pred"
   ]
  },
  {
   "cell_type": "code",
   "execution_count": 41,
   "metadata": {},
   "outputs": [
    {
     "data": {
      "text/plain": [
       "array(['Ankle boot', 'Pullover', 'Trouser'], dtype='<U11')"
      ]
     },
     "execution_count": 41,
     "metadata": {},
     "output_type": "execute_result"
    }
   ],
   "source": [
    "np.array(class_names)[y_pred]"
   ]
  },
  {
   "cell_type": "code",
   "execution_count": 42,
   "metadata": {},
   "outputs": [
    {
     "data": {
      "text/plain": [
       "array([9, 2, 1], dtype=uint8)"
      ]
     },
     "execution_count": 42,
     "metadata": {},
     "output_type": "execute_result"
    }
   ],
   "source": [
    "y_new = y_test[:3]\n",
    "y_new"
   ]
  },
  {
   "cell_type": "code",
   "execution_count": 43,
   "metadata": {},
   "outputs": [
    {
     "data": {
      "image/png": "[encoded data removed]",
      "text/plain": [
       "<Figure size 518.4x172.8 with 3 Axes>"
      ]
     },
     "metadata": {
      "needs_background": "light"
     },
     "output_type": "display_data"
    }
   ],
   "source": [
    "plt.figure(figsize=(7.2, 2.4))\n",
    "for index, image in enumerate(X_new):\n",
    "    plt.subplot(1, 3, index + 1)\n",
    "    plt.imshow(image, cmap=\"binary\", interpolation=\"nearest\")\n",
    "    plt.axis('off')\n",
    "    plt.title(class_names[y_test[index]], fontsize=12)\n",
    "plt.subplots_adjust(wspace=0.2, hspace=0.5)\n",
    "plt.show()"
   ]
  },
  {
   "cell_type": "markdown",
   "metadata": {
    "collapsed": true
   },
   "source": [
    "### Question 1 :"
   ]
  },
  {
   "cell_type": "code",
   "execution_count": 44,
   "metadata": {},
   "outputs": [],
   "source": [
    "model.compile(loss=\"sparse_categorical_crossentropy\", optimizer=\"Adam\", metrics=[\"accuracy\"])"
   ]
  },
  {
   "cell_type": "code",
   "execution_count": 45,
   "metadata": {},
   "outputs": [
    {
     "name": "stdout",
     "output_type": "stream",
     "text": [
      "Train on 55000 samples, validate on 5000 samples\n",
      "Epoch 1/30\n",
      "55000/55000 [==============================] - 19s 342us/sample - loss: 0.3798 - acc: 0.8616 - val_loss: 0.3710 - val_acc: 0.8656\n",
      "Epoch 2/30\n",
      "55000/55000 [==============================] - 21s 379us/sample - loss: 0.3317 - acc: 0.8779 - val_loss: 0.3191 - val_acc: 0.88509 - acc: 0 -\n",
      "Epoch 3/30\n",
      "55000/55000 [==============================] - 22s 405us/sample - loss: 0.3091 - acc: 0.8855 - val_loss: 0.3389 - val_acc: 0.8794\n",
      "Epoch 4/30\n",
      "55000/55000 [==============================] - 17s 314us/sample - loss: 0.2903 - acc: 0.8901 - val_loss: 0.3237 - val_acc: 0.8776\n",
      "Epoch 5/30\n",
      "55000/55000 [==============================] - 18s 328us/sample - loss: 0.2737 - acc: 0.8970 - val_loss: 0.3149 - val_acc: 0.8832\n",
      "Epoch 6/30\n",
      "55000/55000 [==============================] - 19s 348us/sample - loss: 0.2623 - acc: 0.9014 - val_loss: 0.3185 - val_acc: 0.8844\n",
      "Epoch 7/30\n",
      "55000/55000 [==============================] - 20s 362us/sample - loss: 0.2502 - acc: 0.9052 - val_loss: 0.3092 - val_acc: 0.8882loss\n",
      "Epoch 8/30\n",
      "55000/55000 [==============================] - 14s 254us/sample - loss: 0.2400 - acc: 0.9080 - val_loss: 0.3081 - val_acc: 0.8872\n",
      "Epoch 9/30\n",
      "55000/55000 [==============================] - 13s 230us/sample - loss: 0.2306 - acc: 0.9121 - val_loss: 0.3100 - val_acc: 0.8876\n",
      "Epoch 10/30\n",
      "55000/55000 [==============================] - 14s 261us/sample - loss: 0.2201 - acc: 0.9177 - val_loss: 0.3370 - val_acc: 0.8864\n",
      "Epoch 11/30\n",
      "55000/55000 [==============================] - 14s 255us/sample - loss: 0.2166 - acc: 0.9173 - val_loss: 0.3287 - val_acc: 0.8866\n",
      "Epoch 12/30\n",
      "55000/55000 [==============================] - 17s 311us/sample - loss: 0.2072 - acc: 0.9205 - val_loss: 0.3607 - val_acc: 0.8852\n",
      "Epoch 13/30\n",
      "55000/55000 [==============================] - 19s 346us/sample - loss: 0.2013 - acc: 0.9246 - val_loss: 0.3252 - val_acc: 0.8946\n",
      "Epoch 14/30\n",
      "55000/55000 [==============================] - 14s 262us/sample - loss: 0.1943 - acc: 0.9259 - val_loss: 0.3769 - val_acc: 0.8828\n",
      "Epoch 15/30\n",
      "55000/55000 [==============================] - 13s 243us/sample - loss: 0.1887 - acc: 0.9287 - val_loss: 0.3333 - val_acc: 0.8986\n",
      "Epoch 16/30\n",
      "55000/55000 [==============================] - 19s 348us/sample - loss: 0.1818 - acc: 0.9302 - val_loss: 0.3346 - val_acc: 0.8918\n",
      "Epoch 17/30\n",
      "55000/55000 [==============================] - 18s 327us/sample - loss: 0.1772 - acc: 0.9316 - val_loss: 0.3310 - val_acc: 0.8982\n",
      "Epoch 18/30\n",
      "55000/55000 [==============================] - 14s 255us/sample - loss: 0.1706 - acc: 0.9349 - val_loss: 0.3404 - val_acc: 0.8984\n",
      "Epoch 19/30\n",
      "55000/55000 [==============================] - 18s 323us/sample - loss: 0.1676 - acc: 0.9354 - val_loss: 0.3711 - val_acc: 0.8970\n",
      "Epoch 20/30\n",
      "55000/55000 [==============================] - 14s 252us/sample - loss: 0.1621 - acc: 0.9386 - val_loss: 0.3749 - val_acc: 0.8944\n",
      "Epoch 21/30\n",
      "55000/55000 [==============================] - 19s 342us/sample - loss: 0.1584 - acc: 0.9389 - val_loss: 0.3583 - val_acc: 0.8988\n",
      "Epoch 22/30\n",
      "55000/55000 [==============================] - 18s 326us/sample - loss: 0.1520 - acc: 0.9415 - val_loss: 0.3647 - val_acc: 0.9018\n",
      "Epoch 23/30\n",
      "55000/55000 [==============================] - 17s 317us/sample - loss: 0.1511 - acc: 0.9419 - val_loss: 0.4001 - val_acc: 0.8956\n",
      "Epoch 24/30\n",
      "55000/55000 [==============================] - 20s 364us/sample - loss: 0.1466 - acc: 0.9438 - val_loss: 0.4136 - val_acc: 0.8914\n",
      "Epoch 25/30\n",
      "55000/55000 [==============================] - 17s 308us/sample - loss: 0.1412 - acc: 0.9462 - val_loss: 0.3858 - val_acc: 0.8998\n",
      "Epoch 26/30\n",
      "55000/55000 [==============================] - 15s 264us/sample - loss: 0.1408 - acc: 0.9465 - val_loss: 0.3849 - val_acc: 0.8966\n",
      "Epoch 27/30\n",
      "55000/55000 [==============================] - 19s 355us/sample - loss: 0.1356 - acc: 0.9478 - val_loss: 0.4020 - val_acc: 0.8972\n",
      "Epoch 28/30\n",
      "55000/55000 [==============================] - 17s 303us/sample - loss: 0.1335 - acc: 0.9475 - val_loss: 0.4426 - val_acc: 0.8966\n",
      "Epoch 29/30\n",
      "55000/55000 [==============================] - 14s 259us/sample - loss: 0.1309 - acc: 0.9490 - val_loss: 0.4361 - val_acc: 0.9024\n",
      "Epoch 30/30\n",
      "55000/55000 [==============================] - 18s 320us/sample - loss: 0.1303 - acc: 0.9509 - val_loss: 0.4410 - val_acc: 0.8986\n"
     ]
    }
   ],
   "source": [
    "history1 = model.fit(X_train, y_train, batch_size=32, epochs=30, validation_data=(X_valid, y_valid))"
   ]
  },
  {
   "cell_type": "code",
   "execution_count": 46,
   "metadata": {},
   "outputs": [
    {
     "data": {
      "text/plain": [
       "{'batch_size': 32,\n",
       " 'epochs': 30,\n",
       " 'steps': None,\n",
       " 'samples': 55000,\n",
       " 'verbose': 0,\n",
       " 'do_validation': True,\n",
       " 'metrics': ['loss', 'acc', 'val_loss', 'val_acc']}"
      ]
     },
     "execution_count": 46,
     "metadata": {},
     "output_type": "execute_result"
    }
   ],
   "source": [
    "history1.params"
   ]
  },
  {
   "cell_type": "code",
   "execution_count": 47,
   "metadata": {},
   "outputs": [
    {
     "name": "stdout",
     "output_type": "stream",
     "text": [
      "[0, 1, 2, 3, 4, 5, 6, 7, 8, 9, 10, 11, 12, 13, 14, 15, 16, 17, 18, 19, 20, 21, 22, 23, 24, 25, 26, 27, 28, 29]\n"
     ]
    }
   ],
   "source": [
    "print(history1.epoch)"
   ]
  },
  {
   "cell_type": "code",
   "execution_count": 48,
   "metadata": {},
   "outputs": [
    {
     "data": {
      "text/plain": [
       "dict_keys(['loss', 'acc', 'val_loss', 'val_acc'])"
      ]
     },
     "execution_count": 48,
     "metadata": {},
     "output_type": "execute_result"
    }
   ],
   "source": [
    "history1.history.keys()"
   ]
  },
  {
   "cell_type": "code",
   "execution_count": 49,
   "metadata": {},
   "outputs": [
    {
     "data": {
      "image/png": "[encoded data removed]",
      "text/plain": [
       "<Figure size 576x360 with 1 Axes>"
      ]
     },
     "metadata": {
      "needs_background": "light"
     },
     "output_type": "display_data"
    }
   ],
   "source": [
    "pd.DataFrame(history1.history).plot(figsize=(8, 5),title=('Adam'))\n",
    "plt.grid(True)\n",
    "plt.gca().set_ylim(0, 1)\n",
    "plt.show()"
   ]
  },
  {
   "cell_type": "code",
   "execution_count": 50,
   "metadata": {},
   "outputs": [
    {
     "name": "stdout",
     "output_type": "stream",
     "text": [
      "10000/10000 [==============================] - 1s 111us/sample - loss: 0.4687 - acc: 0.8898\n"
     ]
    }
   ],
   "source": [
    "Adam = model.evaluate(X_test, y_test)"
   ]
  },
  {
   "cell_type": "code",
   "execution_count": 51,
   "metadata": {},
   "outputs": [
    {
     "data": {
      "text/plain": [
       "[0.46868690507113936, 0.8898]"
      ]
     },
     "execution_count": 51,
     "metadata": {},
     "output_type": "execute_result"
    }
   ],
   "source": [
    "Adam"
   ]
  },
  {
   "cell_type": "code",
   "execution_count": 52,
   "metadata": {},
   "outputs": [],
   "source": [
    "model.compile(loss=\"sparse_categorical_crossentropy\", optimizer=\"RMSprop\", metrics=[\"accuracy\"])"
   ]
  },
  {
   "cell_type": "code",
   "execution_count": 53,
   "metadata": {},
   "outputs": [
    {
     "name": "stdout",
     "output_type": "stream",
     "text": [
      "Train on 55000 samples, validate on 5000 samples\n",
      "Epoch 1/30\n",
      "55000/55000 [==============================] - 18s 327us/sample - loss: 0.1286 - acc: 0.9530 - val_loss: 0.5466 - val_acc: 0.9046\n",
      "Epoch 2/30\n",
      "55000/55000 [==============================] - 16s 300us/sample - loss: 0.1386 - acc: 0.9500 - val_loss: 0.6473 - val_acc: 0.8988\n",
      "Epoch 3/30\n",
      "55000/55000 [==============================] - 22s 395us/sample - loss: 0.1473 - acc: 0.9489 - val_loss: 0.7202 - val_acc: 0.8948\n",
      "Epoch 4/30\n",
      "55000/55000 [==============================] - 32s 575us/sample - loss: 0.1545 - acc: 0.9473 - val_loss: 0.7740 - val_acc: 0.8908\n",
      "Epoch 5/30\n",
      "55000/55000 [==============================] - 24s 430us/sample - loss: 0.1552 - acc: 0.9468 - val_loss: 0.7349 - val_acc: 0.8954\n",
      "Epoch 6/30\n",
      "55000/55000 [==============================] - 23s 413us/sample - loss: 0.1617 - acc: 0.9473 - val_loss: 0.7641 - val_acc: 0.8964\n",
      "Epoch 7/30\n",
      "55000/55000 [==============================] - 22s 401us/sample - loss: 0.1648 - acc: 0.9451 - val_loss: 0.8532 - val_acc: 0.9014\n",
      "Epoch 8/30\n",
      "55000/55000 [==============================] - 24s 436us/sample - loss: 0.1668 - acc: 0.9458 - val_loss: 0.8496 - val_acc: 0.8976\n",
      "Epoch 9/30\n",
      "55000/55000 [==============================] - 28s 516us/sample - loss: 0.1726 - acc: 0.9451 - val_loss: 0.9814 - val_acc: 0.8902\n",
      "Epoch 10/30\n",
      "55000/55000 [==============================] - 23s 423us/sample - loss: 0.1746 - acc: 0.9443 - val_loss: 0.8715 - val_acc: 0.8964\n",
      "Epoch 11/30\n",
      "55000/55000 [==============================] - 21s 378us/sample - loss: 0.1759 - acc: 0.9444 - val_loss: 0.9038 - val_acc: 0.8918\n",
      "Epoch 12/30\n",
      "55000/55000 [==============================] - 22s 405us/sample - loss: 0.1756 - acc: 0.9443 - val_loss: 0.9464 - val_acc: 0.8908\n",
      "Epoch 13/30\n",
      "55000/55000 [==============================] - 24s 443us/sample - loss: 0.1767 - acc: 0.9448 - val_loss: 0.9536 - val_acc: 0.8906\n",
      "Epoch 14/30\n",
      "55000/55000 [==============================] - 25s 456us/sample - loss: 0.1831 - acc: 0.9443 - val_loss: 0.9293 - val_acc: 0.8930\n",
      "Epoch 15/30\n",
      "55000/55000 [==============================] - 26s 478us/sample - loss: 0.1828 - acc: 0.9435 - val_loss: 1.0334 - val_acc: 0.8850\n",
      "Epoch 16/30\n",
      "55000/55000 [==============================] - 23s 419us/sample - loss: 0.1838 - acc: 0.9441 - val_loss: 1.1421 - val_acc: 0.8910\n",
      "Epoch 17/30\n",
      "55000/55000 [==============================] - 24s 428us/sample - loss: 0.1853 - acc: 0.9443 - val_loss: 1.0630 - val_acc: 0.8946\n",
      "Epoch 18/30\n",
      "55000/55000 [==============================] - 22s 402us/sample - loss: 0.1838 - acc: 0.9433 - val_loss: 1.0614 - val_acc: 0.8978\n",
      "Epoch 19/30\n",
      "55000/55000 [==============================] - 24s 431us/sample - loss: 0.1909 - acc: 0.9431 - val_loss: 1.0538 - val_acc: 0.8984\n",
      "Epoch 20/30\n",
      "55000/55000 [==============================] - 21s 382us/sample - loss: 0.1874 - acc: 0.9442 - val_loss: 1.0767 - val_acc: 0.8922\n",
      "Epoch 21/30\n",
      "55000/55000 [==============================] - 21s 387us/sample - loss: 0.1892 - acc: 0.9437 - val_loss: 1.0646 - val_acc: 0.9012\n",
      "Epoch 22/30\n",
      "55000/55000 [==============================] - 29s 533us/sample - loss: 0.1871 - acc: 0.9444 - val_loss: 1.1806 - val_acc: 0.8848\n",
      "Epoch 23/30\n",
      "55000/55000 [==============================] - 22s 405us/sample - loss: 0.1875 - acc: 0.9447 - val_loss: 1.1059 - val_acc: 0.8916\n",
      "Epoch 24/30\n",
      "55000/55000 [==============================] - 21s 375us/sample - loss: 0.1787 - acc: 0.9457 - val_loss: 1.1689 - val_acc: 0.8870\n",
      "Epoch 25/30\n",
      "55000/55000 [==============================] - 21s 382us/sample - loss: 0.1830 - acc: 0.9451 - val_loss: 1.2291 - val_acc: 0.8912\n",
      "Epoch 26/30\n",
      "55000/55000 [==============================] - 23s 421us/sample - loss: 0.1860 - acc: 0.9448 - val_loss: 1.1625 - val_acc: 0.8990\n",
      "Epoch 27/30\n",
      "55000/55000 [==============================] - 21s 379us/sample - loss: 0.1856 - acc: 0.9446 - val_loss: 1.2104 - val_acc: 0.8872\n",
      "Epoch 28/30\n",
      "55000/55000 [==============================] - 25s 458us/sample - loss: 0.1911 - acc: 0.9440 - val_loss: 1.2828 - val_acc: 0.8852\n",
      "Epoch 29/30\n",
      "55000/55000 [==============================] - 20s 363us/sample - loss: 0.1899 - acc: 0.9445 - val_loss: 1.2894 - val_acc: 0.8904\n",
      "Epoch 30/30\n",
      "55000/55000 [==============================] - 22s 393us/sample - loss: 0.1926 - acc: 0.9452 - val_loss: 1.3945 - val_acc: 0.8854\n"
     ]
    }
   ],
   "source": [
    "history2 = model.fit(X_train, y_train, batch_size=32, epochs=30, validation_data=(X_valid, y_valid))"
   ]
  },
  {
   "cell_type": "code",
   "execution_count": 54,
   "metadata": {},
   "outputs": [
    {
     "data": {
      "text/plain": [
       "{'batch_size': 32,\n",
       " 'epochs': 30,\n",
       " 'steps': None,\n",
       " 'samples': 55000,\n",
       " 'verbose': 0,\n",
       " 'do_validation': True,\n",
       " 'metrics': ['loss', 'acc', 'val_loss', 'val_acc']}"
      ]
     },
     "execution_count": 54,
     "metadata": {},
     "output_type": "execute_result"
    }
   ],
   "source": [
    "history2.params"
   ]
  },
  {
   "cell_type": "code",
   "execution_count": 55,
   "metadata": {},
   "outputs": [
    {
     "name": "stdout",
     "output_type": "stream",
     "text": [
      "[0, 1, 2, 3, 4, 5, 6, 7, 8, 9, 10, 11, 12, 13, 14, 15, 16, 17, 18, 19, 20, 21, 22, 23, 24, 25, 26, 27, 28, 29]\n"
     ]
    }
   ],
   "source": [
    "print(history2.epoch)"
   ]
  },
  {
   "cell_type": "code",
   "execution_count": 56,
   "metadata": {},
   "outputs": [
    {
     "data": {
      "text/plain": [
       "dict_keys(['loss', 'acc', 'val_loss', 'val_acc'])"
      ]
     },
     "execution_count": 56,
     "metadata": {},
     "output_type": "execute_result"
    }
   ],
   "source": [
    "history2.history.keys()"
   ]
  },
  {
   "cell_type": "code",
   "execution_count": 57,
   "metadata": {},
   "outputs": [
    {
     "data": {
      "image/png": "[encoded data removed]",
      "text/plain": [
       "<Figure size 576x360 with 1 Axes>"
      ]
     },
     "metadata": {
      "needs_background": "light"
     },
     "output_type": "display_data"
    }
   ],
   "source": [
    "pd.DataFrame(history1.history).plot(figsize=(8, 5),title=('RMSprop'))\n",
    "plt.grid(True)\n",
    "plt.gca().set_ylim(0, 1)\n",
    "plt.show()"
   ]
  },
  {
   "cell_type": "code",
   "execution_count": 58,
   "metadata": {},
   "outputs": [
    {
     "name": "stdout",
     "output_type": "stream",
     "text": [
      "10000/10000 [==============================] - 1s 126us/sample - loss: 1.3321 - acc: 0.8775\n"
     ]
    }
   ],
   "source": [
    "RMSprop = model.evaluate(X_test, y_test)"
   ]
  },
  {
   "cell_type": "code",
   "execution_count": 59,
   "metadata": {},
   "outputs": [
    {
     "data": {
      "text/plain": [
       "[1.332091798067093, 0.8775]"
      ]
     },
     "execution_count": 59,
     "metadata": {},
     "output_type": "execute_result"
    }
   ],
   "source": [
    "RMSprop"
   ]
  },
  {
   "cell_type": "markdown",
   "metadata": {},
   "source": [
    "### Question 2 :"
   ]
  },
  {
   "cell_type": "code",
   "execution_count": 60,
   "metadata": {},
   "outputs": [],
   "source": [
    "model.compile(loss=\"sparse_categorical_crossentropy\", optimizer=\"sgd\", metrics=[\"accuracy\"])"
   ]
  },
  {
   "cell_type": "code",
   "execution_count": 61,
   "metadata": {},
   "outputs": [
    {
     "name": "stdout",
     "output_type": "stream",
     "text": [
      "Train on 55000 samples, validate on 5000 samples\n",
      "Epoch 1/30\n",
      "55000/55000 [==============================] - 50s 906us/sample - loss: 3.2540 - acc: 0.2063 - val_loss: 1.9395 - val_acc: 0.2510\n",
      "Epoch 2/30\n",
      "55000/55000 [==============================] - 39s 704us/sample - loss: 1.8515 - acc: 0.2859 - val_loss: 1.9542 - val_acc: 0.2356\n",
      "Epoch 3/30\n",
      "55000/55000 [==============================] - 53s 959us/sample - loss: 1.8192 - acc: 0.3089 - val_loss: 1.4112 - val_acc: 0.4252\n",
      "Epoch 4/30\n",
      "55000/55000 [==============================] - 45s 811us/sample - loss: 1.5224 - acc: 0.3903 - val_loss: 1.4545 - val_acc: 0.4096\n",
      "Epoch 5/30\n",
      "55000/55000 [==============================] - 42s 772us/sample - loss: 1.3067 - acc: 0.4502 - val_loss: 1.4039 - val_acc: 0.4522\n",
      "Epoch 6/30\n",
      "55000/55000 [==============================] - 38s 682us/sample - loss: 1.1111 - acc: 0.5434 - val_loss: 1.0045 - val_acc: 0.5714\n",
      "Epoch 7/30\n",
      "55000/55000 [==============================] - 45s 811us/sample - loss: 0.9884 - acc: 0.5854 - val_loss: 0.9275 - val_acc: 0.6094\n",
      "Epoch 8/30\n",
      "55000/55000 [==============================] - 62s 1ms/sample - loss: 0.9049 - acc: 0.6103 - val_loss: 16.9411 - val_acc: 0.4164\n",
      "Epoch 9/30\n",
      "55000/55000 [==============================] - 59s 1ms/sample - loss: 0.8751 - acc: 0.6254 - val_loss: 0.8117 - val_acc: 0.6590\n",
      "Epoch 10/30\n",
      "55000/55000 [==============================] - 64s 1ms/sample - loss: 0.8346 - acc: 0.6349 - val_loss: 3.7256 - val_acc: 0.5598\n",
      "Epoch 11/30\n",
      "55000/55000 [==============================] - 48s 868us/sample - loss: 0.8071 - acc: 0.6428 - val_loss: 0.7610 - val_acc: 0.6710\n",
      "Epoch 12/30\n",
      "55000/55000 [==============================] - 59s 1ms/sample - loss: 0.7631 - acc: 0.6754 - val_loss: 0.7624 - val_acc: 0.6742\n",
      "Epoch 13/30\n",
      "55000/55000 [==============================] - 47s 861us/sample - loss: 0.6500 - acc: 0.7332 - val_loss: 1.6843 - val_acc: 0.6388\n",
      "Epoch 14/30\n",
      "55000/55000 [==============================] - 53s 962us/sample - loss: 0.5852 - acc: 0.7495 - val_loss: 0.5885 - val_acc: 0.7654\n",
      "Epoch 15/30\n",
      "55000/55000 [==============================] - 50s 915us/sample - loss: 0.5561 - acc: 0.7599 - val_loss: 0.5801 - val_acc: 0.7780\n",
      "Epoch 16/30\n",
      "55000/55000 [==============================] - 47s 858us/sample - loss: 0.5397 - acc: 0.7671 - val_loss: 0.7437 - val_acc: 0.7024\n",
      "Epoch 17/30\n",
      "55000/55000 [==============================] - 48s 872us/sample - loss: 0.5205 - acc: 0.7814 - val_loss: 0.5457 - val_acc: 0.7762\n",
      "Epoch 18/30\n",
      "55000/55000 [==============================] - 51s 936us/sample - loss: 0.4945 - acc: 0.8063 - val_loss: 0.5198 - val_acc: 0.8130\n",
      "Epoch 19/30\n",
      "55000/55000 [==============================] - 48s 864us/sample - loss: 0.4648 - acc: 0.8207 - val_loss: 0.5646 - val_acc: 0.7870\n",
      "Epoch 20/30\n",
      "55000/55000 [==============================] - 57s 1ms/sample - loss: 0.4406 - acc: 0.8305 - val_loss: 0.5244 - val_acc: 0.8112\n",
      "Epoch 21/30\n",
      "55000/55000 [==============================] - 51s 929us/sample - loss: 0.4003 - acc: 0.8464 - val_loss: 0.9872 - val_acc: 0.6762\n",
      "Epoch 22/30\n",
      "55000/55000 [==============================] - 50s 908us/sample - loss: 0.3612 - acc: 0.8764 - val_loss: 0.4538 - val_acc: 0.8786\n",
      "Epoch 23/30\n",
      "55000/55000 [==============================] - 43s 786us/sample - loss: 0.3202 - acc: 0.8916 - val_loss: 0.5569 - val_acc: 0.8100\n",
      "Epoch 24/30\n",
      "55000/55000 [==============================] - 50s 902us/sample - loss: 0.2987 - acc: 0.9001 - val_loss: 0.4372 - val_acc: 0.8750\n",
      "Epoch 25/30\n",
      "55000/55000 [==============================] - 54s 979us/sample - loss: 0.2755 - acc: 0.9068 - val_loss: 0.4601 - val_acc: 0.8848\n",
      "Epoch 26/30\n",
      "55000/55000 [==============================] - 42s 757us/sample - loss: 0.2595 - acc: 0.9112 - val_loss: 0.4332 - val_acc: 0.8896\n",
      "Epoch 27/30\n",
      "55000/55000 [==============================] - 44s 804us/sample - loss: 0.2445 - acc: 0.9172 - val_loss: 0.4408 - val_acc: 0.8876\n",
      "Epoch 28/30\n",
      "55000/55000 [==============================] - 52s 944us/sample - loss: 0.2316 - acc: 0.9202 - val_loss: 0.4249 - val_acc: 0.8938\n",
      "Epoch 29/30\n",
      "55000/55000 [==============================] - 50s 912us/sample - loss: 0.2172 - acc: 0.9239 - val_loss: 0.4744 - val_acc: 0.8876\n",
      "Epoch 30/30\n",
      "55000/55000 [==============================] - 49s 890us/sample - loss: 0.2037 - acc: 0.9278 - val_loss: 0.4710 - val_acc: 0.8836\n"
     ]
    }
   ],
   "source": [
    "history2 = model.fit(X_train, y_train, batch_size=70, epochs=30, validation_data=(X_valid, y_valid))"
   ]
  },
  {
   "cell_type": "code",
   "execution_count": 62,
   "metadata": {},
   "outputs": [
    {
     "data": {
      "image/png": "[encoded data removed]",
      "text/plain": [
       "<Figure size 576x360 with 1 Axes>"
      ]
     },
     "metadata": {
      "needs_background": "light"
     },
     "output_type": "display_data"
    }
   ],
   "source": [
    "pd.DataFrame(history2.history).plot(figsize=(8, 5))\n",
    "plt.grid(True)\n",
    "plt.gca().set_ylim(0, 1)\n",
    "plt.show()"
   ]
  },
  {
   "cell_type": "code",
   "execution_count": 63,
   "metadata": {},
   "outputs": [
    {
     "name": "stdout",
     "output_type": "stream",
     "text": [
      "Train on 55000 samples, validate on 5000 samples\n",
      "Epoch 1/30\n",
      "55000/55000 [==============================] - 3s 62us/sample - loss: 0.1831 - acc: 0.9328 - val_loss: 0.4508 - val_acc: 0.8926\n",
      "Epoch 2/30\n",
      "55000/55000 [==============================] - 3s 54us/sample - loss: 0.1698 - acc: 0.9388 - val_loss: 0.4474 - val_acc: 0.8936\n",
      "Epoch 3/30\n",
      "55000/55000 [==============================] - 3s 61us/sample - loss: 0.1664 - acc: 0.9409 - val_loss: 0.4471 - val_acc: 0.8944\n",
      "Epoch 4/30\n",
      "55000/55000 [==============================] - 4s 65us/sample - loss: 0.1651 - acc: 0.9415 - val_loss: 0.4471 - val_acc: 0.8948\n",
      "Epoch 5/30\n",
      "55000/55000 [==============================] - 3s 63us/sample - loss: 0.1644 - acc: 0.9418 - val_loss: 0.4471 - val_acc: 0.8950\n",
      "Epoch 6/30\n",
      "55000/55000 [==============================] - 3s 58us/sample - loss: 0.1639 - acc: 0.9420 - val_loss: 0.4472 - val_acc: 0.8954\n",
      "Epoch 7/30\n",
      "55000/55000 [==============================] - 4s 67us/sample - loss: 0.1635 - acc: 0.9420 - val_loss: 0.4474 - val_acc: 0.8956\n",
      "Epoch 8/30\n",
      "55000/55000 [==============================] - 3s 60us/sample - loss: 0.1631 - acc: 0.9423 - val_loss: 0.4476 - val_acc: 0.8952\n",
      "Epoch 9/30\n",
      "55000/55000 [==============================] - 3s 60us/sample - loss: 0.1628 - acc: 0.9424 - val_loss: 0.4477 - val_acc: 0.8960\n",
      "Epoch 10/30\n",
      "55000/55000 [==============================] - 3s 61us/sample - loss: 0.1624 - acc: 0.9425 - val_loss: 0.4479 - val_acc: 0.8962\n",
      "Epoch 11/30\n",
      "55000/55000 [==============================] - 3s 59us/sample - loss: 0.1622 - acc: 0.9426 - val_loss: 0.4480 - val_acc: 0.8968\n",
      "Epoch 12/30\n",
      "55000/55000 [==============================] - 4s 68us/sample - loss: 0.1619 - acc: 0.9425 - val_loss: 0.4482 - val_acc: 0.8966\n",
      "Epoch 13/30\n",
      "55000/55000 [==============================] - 4s 68us/sample - loss: 0.1616 - acc: 0.9424 - val_loss: 0.4484 - val_acc: 0.8970\n",
      "Epoch 14/30\n",
      "55000/55000 [==============================] - 4s 66us/sample - loss: 0.1614 - acc: 0.9426 - val_loss: 0.4486 - val_acc: 0.8968\n",
      "Epoch 15/30\n",
      "55000/55000 [==============================] - 4s 74us/sample - loss: 0.1612 - acc: 0.9428 - val_loss: 0.4488 - val_acc: 0.8966\n",
      "Epoch 16/30\n",
      "55000/55000 [==============================] - 4s 74us/sample - loss: 0.1610 - acc: 0.9428 - val_loss: 0.4489 - val_acc: 0.8964\n",
      "Epoch 17/30\n",
      "55000/55000 [==============================] - 3s 61us/sample - loss: 0.1608 - acc: 0.9429 - val_loss: 0.4492 - val_acc: 0.8964\n",
      "Epoch 18/30\n",
      "55000/55000 [==============================] - 3s 59us/sample - loss: 0.1606 - acc: 0.9428 - val_loss: 0.4493 - val_acc: 0.8968\n",
      "Epoch 19/30\n",
      "55000/55000 [==============================] - 3s 61us/sample - loss: 0.1604 - acc: 0.9430 - val_loss: 0.4495 - val_acc: 0.8968\n",
      "Epoch 20/30\n",
      "55000/55000 [==============================] - 4s 70us/sample - loss: 0.1602 - acc: 0.9431 - val_loss: 0.4497 - val_acc: 0.8968\n",
      "Epoch 21/30\n",
      "55000/55000 [==============================] - 4s 72us/sample - loss: 0.1601 - acc: 0.9432 - val_loss: 0.4500 - val_acc: 0.8968\n",
      "Epoch 22/30\n",
      "55000/55000 [==============================] - 4s 73us/sample - loss: 0.1599 - acc: 0.9431 - val_loss: 0.4502 - val_acc: 0.8966\n",
      "Epoch 23/30\n",
      "55000/55000 [==============================] - 3s 63us/sample - loss: 0.1598 - acc: 0.9432 - val_loss: 0.4503 - val_acc: 0.8966\n",
      "Epoch 24/30\n",
      "55000/55000 [==============================] - 3s 63us/sample - loss: 0.1596 - acc: 0.9432 - val_loss: 0.4505 - val_acc: 0.8970\n",
      "Epoch 25/30\n",
      "55000/55000 [==============================] - 3s 59us/sample - loss: 0.1595 - acc: 0.9433 - val_loss: 0.4507 - val_acc: 0.8970\n",
      "Epoch 26/30\n",
      "55000/55000 [==============================] - 4s 64us/sample - loss: 0.1594 - acc: 0.9433 - val_loss: 0.4509 - val_acc: 0.8970\n",
      "Epoch 27/30\n",
      "55000/55000 [==============================] - 3s 56us/sample - loss: 0.1593 - acc: 0.9434 - val_loss: 0.4511 - val_acc: 0.8972\n",
      "Epoch 28/30\n",
      "55000/55000 [==============================] - 3s 60us/sample - loss: 0.1592 - acc: 0.9434 - val_loss: 0.4512 - val_acc: 0.8968\n",
      "Epoch 29/30\n",
      "55000/55000 [==============================] - 3s 58us/sample - loss: 0.1590 - acc: 0.9434 - val_loss: 0.4514 - val_acc: 0.8970\n",
      "Epoch 30/30\n",
      "55000/55000 [==============================] - 3s 56us/sample - loss: 0.1589 - acc: 0.9434 - val_loss: 0.4515 - val_acc: 0.8968\n"
     ]
    }
   ],
   "source": [
    "history3 = model.fit(X_train, y_train, batch_size=7000, epochs=30, validation_data=(X_valid, y_valid))"
   ]
  },
  {
   "cell_type": "code",
   "execution_count": 64,
   "metadata": {},
   "outputs": [
    {
     "data": {
      "image/png": "[encoded data removed]",
      "text/plain": [
       "<Figure size 576x360 with 1 Axes>"
      ]
     },
     "metadata": {
      "needs_background": "light"
     },
     "output_type": "display_data"
    }
   ],
   "source": [
    "pd.DataFrame(history3.history).plot(figsize=(8, 5))\n",
    "plt.grid(True)\n",
    "plt.gca().set_ylim(0, 1)\n",
    "plt.show()"
   ]
  },
  {
   "cell_type": "markdown",
   "metadata": {},
   "source": [
    "### Question 3 :"
   ]
  },
  {
   "cell_type": "code",
   "execution_count": 65,
   "metadata": {},
   "outputs": [
    {
     "name": "stdout",
     "output_type": "stream",
     "text": [
      "Train on 55000 samples, validate on 5000 samples\n",
      "Epoch 1/10\n",
      "55000/55000 [==============================] - 14s 258us/sample - loss: 0.1636 - acc: 0.9417 - val_loss: 0.4690 - val_acc: 0.8898\n",
      "Epoch 2/10\n",
      "55000/55000 [==============================] - 18s 318us/sample - loss: 0.1603 - acc: 0.9425 - val_loss: 0.4672 - val_acc: 0.8966\n",
      "Epoch 3/10\n",
      "55000/55000 [==============================] - 17s 311us/sample - loss: 0.1581 - acc: 0.9436 - val_loss: 0.4759 - val_acc: 0.8940\n",
      "Epoch 4/10\n",
      "55000/55000 [==============================] - 16s 293us/sample - loss: 0.1560 - acc: 0.9441 - val_loss: 0.4867 - val_acc: 0.8910\n",
      "Epoch 5/10\n",
      "55000/55000 [==============================] - 11s 205us/sample - loss: 0.1546 - acc: 0.9446 - val_loss: 0.4854 - val_acc: 0.8940\n",
      "Epoch 6/10\n",
      "55000/55000 [==============================] - 14s 253us/sample - loss: 0.1526 - acc: 0.9451 - val_loss: 0.4759 - val_acc: 0.8948\n",
      "Epoch 7/10\n",
      "55000/55000 [==============================] - 13s 232us/sample - loss: 0.1515 - acc: 0.9456 - val_loss: 0.4849 - val_acc: 0.8954\n",
      "Epoch 8/10\n",
      "55000/55000 [==============================] - 13s 243us/sample - loss: 0.1499 - acc: 0.9461 - val_loss: 0.5021 - val_acc: 0.8954\n",
      "Epoch 9/10\n",
      "55000/55000 [==============================] - 12s 221us/sample - loss: 0.1485 - acc: 0.9463 - val_loss: 0.4923 - val_acc: 0.8972\n",
      "Epoch 10/10\n",
      "55000/55000 [==============================] - 13s 240us/sample - loss: 0.1472 - acc: 0.9473 - val_loss: 0.5006 - val_acc: 0.8966\n"
     ]
    }
   ],
   "source": [
    "history4 = model.fit(X_train, y_train, batch_size=32, epochs=10, validation_data=(X_valid, y_valid))"
   ]
  },
  {
   "cell_type": "code",
   "execution_count": 66,
   "metadata": {},
   "outputs": [
    {
     "data": {
      "image/png": "[encoded data removed]",
      "text/plain": [
       "<Figure size 576x360 with 1 Axes>"
      ]
     },
     "metadata": {
      "needs_background": "light"
     },
     "output_type": "display_data"
    }
   ],
   "source": [
    "pd.DataFrame(history4.history).plot(figsize=(8, 5))\n",
    "plt.grid(True)\n",
    "plt.gca().set_ylim(0, 1)\n",
    "plt.show()"
   ]
  },
  {
   "cell_type": "code",
   "execution_count": 67,
   "metadata": {},
   "outputs": [
    {
     "name": "stdout",
     "output_type": "stream",
     "text": [
      "Train on 55000 samples, validate on 5000 samples\n",
      "Epoch 1/10\n",
      "55000/55000 [==============================] - 14s 259us/sample - loss: 0.1461 - acc: 0.9470 - val_loss: 0.5030 - val_acc: 0.8966\n",
      "Epoch 2/10\n",
      "55000/55000 [==============================] - 13s 238us/sample - loss: 0.1442 - acc: 0.9479 - val_loss: 0.5514 - val_acc: 0.8874\n",
      "Epoch 3/10\n",
      "55000/55000 [==============================] - 14s 257us/sample - loss: 0.1435 - acc: 0.9484 - val_loss: 0.5048 - val_acc: 0.8914\n",
      "Epoch 4/10\n",
      "55000/55000 [==============================] - 12s 220us/sample - loss: 0.1425 - acc: 0.9487 - val_loss: 0.5295 - val_acc: 0.8928\n",
      "Epoch 5/10\n",
      "55000/55000 [==============================] - 16s 294us/sample - loss: 0.1412 - acc: 0.9495 - val_loss: 0.5163 - val_acc: 0.8930\n",
      "Epoch 6/10\n",
      "55000/55000 [==============================] - 15s 267us/sample - loss: 0.1398 - acc: 0.9500 - val_loss: 0.5289 - val_acc: 0.8906\n",
      "Epoch 7/10\n",
      "55000/55000 [==============================] - 14s 252us/sample - loss: 0.1389 - acc: 0.9502 - val_loss: 0.5238 - val_acc: 0.8930\n",
      "Epoch 8/10\n",
      "55000/55000 [==============================] - 15s 280us/sample - loss: 0.1376 - acc: 0.9504 - val_loss: 0.5227 - val_acc: 0.8946\n",
      "Epoch 9/10\n",
      "55000/55000 [==============================] - 14s 247us/sample - loss: 0.1367 - acc: 0.9504 - val_loss: 0.5261 - val_acc: 0.8950\n",
      "Epoch 10/10\n",
      "55000/55000 [==============================] - 14s 259us/sample - loss: 0.1355 - acc: 0.9518 - val_loss: 0.5259 - val_acc: 0.8938\n"
     ]
    }
   ],
   "source": [
    "history5 = model.fit(X_train, y_train, batch_size=32, epochs=20, validation_data=(X_valid, y_valid))"
   ]
  },
  {
   "cell_type": "code",
   "execution_count": 68,
   "metadata": {},
   "outputs": [
    {
     "data": {
      "image/png": "[encoded data removed]",
      "text/plain": [
       "<Figure size 576x360 with 1 Axes>"
      ]
     },
     "metadata": {
      "needs_background": "light"
     },
     "output_type": "display_data"
    }
   ],
   "source": [
    "pd.DataFrame(history5.history).plot(figsize=(8, 5))\n",
    "plt.grid(True)\n",
    "plt.gca().set_ylim(0, 1)\n",
    "plt.show()"
   ]
  },
  {
   "cell_type": "markdown",
   "metadata": {},
   "source": [
    "### Question 4 : "
   ]
  },
  {
   "cell_type": "code",
   "execution_count": 81,
   "metadata": {},
   "outputs": [],
   "source": [
    "model = keras.models.Sequential()\n",
    "model.add(keras.layers.Flatten(input_shape=[28, 28]))\n",
    "model.add(keras.layers.Dense(500, activation=\"relu\"))\n",
    "model.add((keras.layers.Dropout(0.2)))\n",
    "model.add(keras.layers.Dense(200, activation=\"relu\"))\n",
    "model.add(keras.layers.Dense(10, activation=\"softmax\"))"
   ]
  },
  {
   "cell_type": "code",
   "execution_count": 82,
   "metadata": {},
   "outputs": [
    {
     "data": {
      "text/plain": [
       "[<tensorflow.python.keras.layers.core.Flatten at 0x17dc59a4dc8>,\n",
       " <tensorflow.python.keras.layers.core.Dense at 0x17dc59a4f88>,\n",
       " <tensorflow.python.keras.layers.core.Dropout at 0x17dc59a0b88>,\n",
       " <tensorflow.python.keras.layers.core.Dense at 0x17dc59b9748>,\n",
       " <tensorflow.python.keras.layers.core.Dense at 0x17dc5a26dc8>]"
      ]
     },
     "execution_count": 82,
     "metadata": {},
     "output_type": "execute_result"
    }
   ],
   "source": [
    "model.layers"
   ]
  },
  {
   "cell_type": "code",
   "execution_count": 83,
   "metadata": {},
   "outputs": [],
   "source": [
    "model.compile(loss=\"sparse_categorical_crossentropy\", optimizer=\"RMSprop\", metrics=[\"accuracy\"])"
   ]
  },
  {
   "cell_type": "code",
   "execution_count": 84,
   "metadata": {},
   "outputs": [
    {
     "name": "stdout",
     "output_type": "stream",
     "text": [
      "Train on 55000 samples, validate on 5000 samples\n",
      "Epoch 1/30\n",
      "55000/55000 [==============================] - 42s 772us/sample - loss: 0.5404 - acc: 0.8061 - val_loss: 0.3973 - val_acc: 0.8582\n",
      "Epoch 2/30\n",
      "55000/55000 [==============================] - 38s 694us/sample - loss: 0.4430 - acc: 0.8467 - val_loss: 0.3969 - val_acc: 0.8666\n",
      "Epoch 3/30\n",
      "55000/55000 [==============================] - 37s 664us/sample - loss: 0.4278 - acc: 0.8563 - val_loss: 0.4284 - val_acc: 0.8628\n",
      "Epoch 4/30\n",
      "55000/55000 [==============================] - 35s 640us/sample - loss: 0.4175 - acc: 0.8605 - val_loss: 0.3790 - val_acc: 0.8790\n",
      "Epoch 5/30\n",
      "55000/55000 [==============================] - 27s 487us/sample - loss: 0.4091 - acc: 0.8666 - val_loss: 0.4207 - val_acc: 0.8788\n",
      "Epoch 6/30\n",
      "55000/55000 [==============================] - 38s 682us/sample - loss: 0.4006 - acc: 0.8694 - val_loss: 0.4324 - val_acc: 0.8522\n",
      "Epoch 7/30\n",
      "55000/55000 [==============================] - 29s 519us/sample - loss: 0.3969 - acc: 0.8733 - val_loss: 0.4555 - val_acc: 0.8736\n",
      "Epoch 8/30\n",
      "55000/55000 [==============================] - 42s 757us/sample - loss: 0.3915 - acc: 0.8737 - val_loss: 0.4495 - val_acc: 0.8706\n",
      "Epoch 9/30\n",
      "55000/55000 [==============================] - 32s 573us/sample - loss: 0.3862 - acc: 0.8755 - val_loss: 0.4070 - val_acc: 0.8822\n",
      "Epoch 10/30\n",
      "55000/55000 [==============================] - 24s 439us/sample - loss: 0.3829 - acc: 0.8797 - val_loss: 0.4539 - val_acc: 0.8680\n",
      "Epoch 11/30\n",
      "55000/55000 [==============================] - 24s 430us/sample - loss: 0.3770 - acc: 0.8801 - val_loss: 0.5087 - val_acc: 0.8784\n",
      "Epoch 12/30\n",
      "55000/55000 [==============================] - 24s 434us/sample - loss: 0.3687 - acc: 0.8831 - val_loss: 0.4633 - val_acc: 0.8810\n",
      "Epoch 13/30\n",
      "55000/55000 [==============================] - 24s 445us/sample - loss: 0.3720 - acc: 0.8826 - val_loss: 0.4713 - val_acc: 0.8848\n",
      "Epoch 14/30\n",
      "55000/55000 [==============================] - 25s 452us/sample - loss: 0.3644 - acc: 0.8861 - val_loss: 0.5265 - val_acc: 0.8800\n",
      "Epoch 15/30\n",
      "55000/55000 [==============================] - 37s 681us/sample - loss: 0.3666 - acc: 0.8855 - val_loss: 0.4685 - val_acc: 0.8852\n",
      "Epoch 16/30\n",
      "55000/55000 [==============================] - 35s 642us/sample - loss: 0.3524 - acc: 0.8887 - val_loss: 0.5027 - val_acc: 0.8882\n",
      "Epoch 17/30\n",
      "55000/55000 [==============================] - 34s 610us/sample - loss: 0.3588 - acc: 0.8885 - val_loss: 0.4941 - val_acc: 0.8816\n",
      "Epoch 18/30\n",
      "55000/55000 [==============================] - 35s 644us/sample - loss: 0.3525 - acc: 0.8901 - val_loss: 0.5161 - val_acc: 0.8892\n",
      "Epoch 19/30\n",
      "55000/55000 [==============================] - 25s 455us/sample - loss: 0.3490 - acc: 0.8911 - val_loss: 0.5194 - val_acc: 0.8866\n",
      "Epoch 20/30\n",
      "55000/55000 [==============================] - 33s 593us/sample - loss: 0.3503 - acc: 0.8921 - val_loss: 0.6003 - val_acc: 0.8880\n",
      "Epoch 21/30\n",
      "55000/55000 [==============================] - 36s 653us/sample - loss: 0.3517 - acc: 0.8938 - val_loss: 0.5405 - val_acc: 0.8890\n",
      "Epoch 22/30\n",
      "55000/55000 [==============================] - 38s 698us/sample - loss: 0.3449 - acc: 0.8933 - val_loss: 0.5897 - val_acc: 0.8824\n",
      "Epoch 23/30\n",
      "55000/55000 [==============================] - 29s 535us/sample - loss: 0.3415 - acc: 0.8951 - val_loss: 0.6020 - val_acc: 0.8906\n",
      "Epoch 24/30\n",
      "55000/55000 [==============================] - 35s 638us/sample - loss: 0.3392 - acc: 0.8960 - val_loss: 0.6438 - val_acc: 0.8820\n",
      "Epoch 25/30\n",
      "55000/55000 [==============================] - 34s 616us/sample - loss: 0.3442 - acc: 0.8974 - val_loss: 0.6525 - val_acc: 0.8890\n",
      "Epoch 26/30\n",
      "55000/55000 [==============================] - 36s 655us/sample - loss: 0.3377 - acc: 0.8985 - val_loss: 0.6718 - val_acc: 0.8826\n",
      "Epoch 27/30\n",
      "55000/55000 [==============================] - 35s 642us/sample - loss: 0.3374 - acc: 0.8991 - val_loss: 0.6269 - val_acc: 0.8892\n",
      "Epoch 28/30\n",
      "55000/55000 [==============================] - 34s 623us/sample - loss: 0.3337 - acc: 0.8995 - val_loss: 0.6775 - val_acc: 0.8892\n",
      "Epoch 29/30\n",
      "55000/55000 [==============================] - 34s 625us/sample - loss: 0.3274 - acc: 0.9017 - val_loss: 0.7597 - val_acc: 0.8872\n",
      "Epoch 30/30\n",
      "55000/55000 [==============================] - 36s 659us/sample - loss: 0.3277 - acc: 0.9030 - val_loss: 0.6641 - val_acc: 0.8790\n"
     ]
    }
   ],
   "source": [
    "history6 = model.fit(X_train, y_train, batch_size=32, epochs=30, validation_data=(X_valid, y_valid))"
   ]
  },
  {
   "cell_type": "code",
   "execution_count": 85,
   "metadata": {},
   "outputs": [
    {
     "name": "stdout",
     "output_type": "stream",
     "text": [
      "10000/10000 [==============================] - 2s 186us/sample - loss: 0.6774 - acc: 0.8709\n"
     ]
    }
   ],
   "source": [
    "RMSprop = model.evaluate(X_test, y_test)"
   ]
  },
  {
   "cell_type": "code",
   "execution_count": 86,
   "metadata": {},
   "outputs": [
    {
     "data": {
      "image/png": "[encoded data removed]",
      "text/plain": [
       "<Figure size 576x360 with 1 Axes>"
      ]
     },
     "metadata": {
      "needs_background": "light"
     },
     "output_type": "display_data"
    }
   ],
   "source": [
    "pd.DataFrame(history6.history).plot(figsize=(8, 5))\n",
    "plt.grid(True)\n",
    "plt.gca().set_ylim(0, 1)\n",
    "plt.show()"
   ]
  }
 ],
 "metadata": {
  "kernelspec": {
   "display_name": "Python 3",
   "language": "python",
   "name": "python3"
  },
  "language_info": {
   "codemirror_mode": {
    "name": "ipython",
    "version": 3
   },
   "file_extension": ".py",
   "mimetype": "text/x-python",
   "name": "python",
   "nbconvert_exporter": "python",
   "pygments_lexer": "ipython3",
   "version": "3.7.9"
  },
  "nav_menu": {
   "height": "264px",
   "width": "369px"
  },
  "toc": {
   "navigate_menu": true,
   "number_sections": true,
   "sideBar": true,
   "threshold": 6,
   "toc_cell": false,
   "toc_section_display": "block",
   "toc_window_display": false
  }
 },
 "nbformat": 4,
 "nbformat_minor": 1
}
